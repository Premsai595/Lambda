{
 "cells": [
  {
   "cell_type": "code",
   "execution_count": 1,
   "id": "d9a01fe1",
   "metadata": {},
   "outputs": [
    {
     "name": "stdout",
     "output_type": "stream",
     "text": [
      "35\n",
      "48\n"
     ]
    }
   ],
   "source": [
    "r = lambda a : a + 25\n",
    "print(r(10))\n",
    "r = lambda x, y : x * y\n",
    "print(r(12, 4))\n"
   ]
  },
  {
   "cell_type": "code",
   "execution_count": null,
   "id": "b79b9958",
   "metadata": {},
   "outputs": [],
   "source": []
  }
 ],
 "metadata": {
  "kernelspec": {
   "display_name": "Python 3 (ipykernel)",
   "language": "python",
   "name": "python3"
  },
  "language_info": {
   "codemirror_mode": {
    "name": "ipython",
    "version": 3
   },
   "file_extension": ".py",
   "mimetype": "text/x-python",
   "name": "python",
   "nbconvert_exporter": "python",
   "pygments_lexer": "ipython3",
   "version": "3.9.7"
  }
 },
 "nbformat": 4,
 "nbformat_minor": 5
}
